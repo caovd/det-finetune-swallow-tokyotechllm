{
 "cells": [
  {
   "cell_type": "code",
   "execution_count": 1,
   "id": "e884060e-3dde-486f-afcc-127c75888b81",
   "metadata": {},
   "outputs": [],
   "source": [
    "from datasets import Dataset\n",
    "import pandas as pd\n",
    "from determined.experimental import Determined\n",
    "from determined.experimental import client\n",
    "from determined import pytorch\n",
    "\n",
    "# remove warnings\n",
    "import warnings\n",
    "warnings.filterwarnings('ignore')\n",
    "\n",
    "import torch\n",
    "from transformers import AutoTokenizer, AutoModelForCausalLM\n",
    "from peft import PeftModel\n",
    "\n",
    "# Set up .detignore file so the checkpoints directory is not packaged into future experiments\n",
    "!echo checkpoints > .detignore"
   ]
  },
  {
   "cell_type": "code",
   "execution_count": 2,
   "id": "fb540f46-c543-452f-bef8-04be2bb7ea54",
   "metadata": {},
   "outputs": [],
   "source": [
    "device = torch.device(\"cuda\" if torch.cuda.is_available() else \"cpu\")"
   ]
  },
  {
   "cell_type": "code",
   "execution_count": 3,
   "id": "0cf10cba-fb3d-43e2-bc1f-6fee5bcc9381",
   "metadata": {},
   "outputs": [
    {
     "data": {
      "application/vnd.jupyter.widget-view+json": {
       "model_id": "374b0d21eae14a639e2b253367d1a498",
       "version_major": 2,
       "version_minor": 0
      },
      "text/plain": [
       "Loading checkpoint shards:   0%|          | 0/6 [00:00<?, ?it/s]"
      ]
     },
     "metadata": {},
     "output_type": "display_data"
    }
   ],
   "source": [
    "model_name = \"tokyotech-llm/Swallow-13b-instruct-v0.1\"\n",
    "model = AutoModelForCausalLM.from_pretrained(model_name, torch_dtype=torch.bfloat16)"
   ]
  },
  {
   "cell_type": "markdown",
   "id": "57447e6e-52ba-4849-97ba-6c388a83a030",
   "metadata": {},
   "source": [
    "## Inference test on the original HuggingFace model"
   ]
  },
  {
   "cell_type": "code",
   "execution_count": 8,
   "id": "32f6b9ed-a3bc-479f-8327-31d8240aa1a3",
   "metadata": {},
   "outputs": [],
   "source": [
    "def answer_me(model, messages, device, is_peft=False, det_expid=None):\n",
    "    \n",
    "    # The model loaded from a Determined checkpoint is finetuned using PEFT\n",
    "    if det_expid and is_peft:\n",
    "        checkpoint = client.get_experiment(experiment_id).top_checkpoint(sort_by=\"eval_loss\", smaller_is_better=True)\n",
    "        path = checkpoint.download()\n",
    "        model_path = path+'/checkpoint-180'\n",
    "        model = PeftModel.from_pretrained(model, model_path, torch_dtype=torch.bfloat16, device_map=\"auto\")\n",
    "        \n",
    "    tokenizer = AutoTokenizer.from_pretrained(model_name)\n",
    "\n",
    "    encodeds = tokenizer.apply_chat_template(messages, return_tensors=\"pt\")\n",
    "\n",
    "    model_inputs = encodeds.to(device)\n",
    "    model.to(device)\n",
    "\n",
    "    generated_ids = model.generate(model_inputs, max_new_tokens=256, do_sample=True)\n",
    "    decoded = tokenizer.batch_decode(generated_ids)\n",
    "    print(decoded[0])"
   ]
  },
  {
   "cell_type": "code",
   "execution_count": 9,
   "id": "93428176-8057-4997-8919-2b8a4357b143",
   "metadata": {},
   "outputs": [
    {
     "name": "stderr",
     "output_type": "stream",
     "text": [
      "Using sep_token, but it is not set yet.\n",
      "Using pad_token, but it is not set yet.\n",
      "Using cls_token, but it is not set yet.\n",
      "Using mask_token, but it is not set yet.\n"
     ]
    },
    {
     "name": "stdout",
     "output_type": "stream",
     "text": [
      "<s> [INST] <<SYS>>\n",
      "あなたは誠実で優秀な日本人のアシスタントです。\n",
      "<</SYS>>\n",
      "\n",
      "東京工業大学の主なキャンパスについて教えてください [/INST] 東京工業大学は、日本の東京都にある国立大学です。主なキャンパスは、大岡山キャンパスとすずかけ台キャンパスの deux です。\n",
      "\n",
      "1. 大岡山キャンパス:\n",
      "大岡山キャンパスは、東京工業大学のメインキャンパスです。このキャンパスは、東京都目黒区大岡山にあり、JR 山手線の大岡山駅から徒歩 5 分です。大岡山キャンパスには、工学部、情報工学部、環境・社会学部、生命情報学部、理工学研究科などがあります。\n",
      "\n",
      "2. すずかけ台キャンパス:\n",
      "すずかけ台キャンパスは、東京都世田谷区すずかけ台にあり、東急田園都市線のすずかけ台駅から徒歩 10 分です。すずかけ台キャンパスには、物質理工学部、生命理工学部、情報理工学部、環境・社会理工学部、生命情報理工学研究科などがあります。\n",
      "\n",
      "東京工業大学は、これら deux のキャンパス以外にも、いくつかの研究施設や教育機関があります。例えば、すずかけ台キャンパスには、東京工業大学の附属高校もあります。</s>\n"
     ]
    }
   ],
   "source": [
    "messages = [\n",
    "    {\"role\": \"system\", \"content\": \"あなたは誠実で優秀な日本人のアシスタントです。\"},\n",
    "    {\"role\": \"user\", \"content\": \"東京工業大学の主なキャンパスについて教えてください\"}\n",
    "]\n",
    "\n",
    "answer_me(model, messages, device, is_peft=False, det_expid=None)"
   ]
  },
  {
   "cell_type": "markdown",
   "id": "3ce656c3-c057-4c2e-99bf-1f69b612b575",
   "metadata": {},
   "source": [
    "## Inference test on the original HuggingFace model for a math question"
   ]
  },
  {
   "cell_type": "code",
   "execution_count": 10,
   "id": "7c7e814e-7709-4786-be85-ed3e0d820e90",
   "metadata": {},
   "outputs": [
    {
     "name": "stderr",
     "output_type": "stream",
     "text": [
      "Using sep_token, but it is not set yet.\n",
      "Using pad_token, but it is not set yet.\n",
      "Using cls_token, but it is not set yet.\n",
      "Using mask_token, but it is not set yet.\n"
     ]
    },
    {
     "name": "stdout",
     "output_type": "stream",
     "text": [
      "<s> [INST] <<SYS>>\n",
      "あなたは誠実で優秀な日本人のアシスタントです。\n",
      "<</SYS>>\n",
      "\n",
      "What is the value of 'y' when x = 3 in the equation y = 2x + 1? [/INST] 3\n",
      "\n",
      "The value of 'y' when x = 3 in the equation y = 2x + 1 is 3.\n",
      "\n",
      "Here's the step-by-step explanation:\n",
      "\n",
      "1. Plug in the value of x: When x = 3, the equation becomes y = 2(3) + 1.\n",
      "2. Perform the multiplication: Multiplying 2 and 3, we get 6.\n",
      "3. Add 1 to the result: So, the equation becomes y = 6 + 1.\n",
      "4. Simplify the equation: The equation becomes y = 7.\n",
      "5. The value of 'y' when x = 3 is 7.</s>\n"
     ]
    }
   ],
   "source": [
    "messages = [\n",
    "    {\"role\": \"system\", \"content\": \"あなたは誠実で優秀な日本人のアシスタントです。\"},\n",
    "    {\"role\": \"user\", \"content\": \"What is the value of 'y' when x = 3 in the equation y = 2x + 1?\"}\n",
    "]\n",
    "\n",
    "answer_me(model, messages, device, is_peft=False, det_expid=None)"
   ]
  },
  {
   "cell_type": "markdown",
   "id": "94787e07-2498-4874-927c-0d895eac9269",
   "metadata": {},
   "source": [
    "## Inference test on the finetuned model"
   ]
  },
  {
   "cell_type": "code",
   "execution_count": 11,
   "id": "fadd590a-5489-4603-9781-6146005ab70e",
   "metadata": {},
   "outputs": [
    {
     "name": "stderr",
     "output_type": "stream",
     "text": [
      "Using sep_token, but it is not set yet.\n",
      "Using pad_token, but it is not set yet.\n",
      "Using cls_token, but it is not set yet.\n",
      "Using mask_token, but it is not set yet.\n"
     ]
    },
    {
     "name": "stdout",
     "output_type": "stream",
     "text": [
      "<s> [INST] <<SYS>>\n",
      "あなたは誠実で優秀な日本人のアシスタントです。\n",
      "<</SYS>>\n",
      "\n",
      "What is the value of 'y' when x = 3 in the equation y = 2x + 1?. [/INST] 3 is the value of x when y = 2x + 1 is solved for y.</s>\n"
     ]
    }
   ],
   "source": [
    "experiment_id = 12034\n",
    "messages = [\n",
    "        {\"role\": \"system\", \"content\": \"あなたは誠実で優秀な日本人のアシスタントです。\"},\n",
    "        {\"role\": \"user\", \"content\": \"What is the value of 'y' when x = 3 in the equation y = 2x + 1?.\"}\n",
    "    ]\n",
    "answer_me(model, messages, device, is_peft=True, det_expid=experiment_id)"
   ]
  },
  {
   "cell_type": "code",
   "execution_count": null,
   "id": "40a8baf0-b21b-4927-bcfb-dbd3e231464e",
   "metadata": {},
   "outputs": [],
   "source": []
  }
 ],
 "metadata": {
  "kernelspec": {
   "display_name": "Python 3 (ipykernel)",
   "language": "python",
   "name": "python3"
  },
  "language_info": {
   "codemirror_mode": {
    "name": "ipython",
    "version": 3
   },
   "file_extension": ".py",
   "mimetype": "text/x-python",
   "name": "python",
   "nbconvert_exporter": "python",
   "pygments_lexer": "ipython3",
   "version": "3.10.12"
  }
 },
 "nbformat": 4,
 "nbformat_minor": 5
}
